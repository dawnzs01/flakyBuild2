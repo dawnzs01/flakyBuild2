{
 "cells": [
  {
   "cell_type": "markdown",
   "metadata": {
    "application/vnd.databricks.v1+cell": {
     "cellMetadata": {
      "byteLimit": 2048000,
      "rowLimit": 10000
     },
     "inputWidgets": {},
     "nuid": "afec4ed8-c1f7-4535-8aff-c438a59f2fd4",
     "showTitle": false,
     "title": ""
    }
   },
   "source": [
    "# Example Notebook For Training and Running Zingg Entity Resolution Workflow on Databricks\n",
    "This notebook runs the Zingg Febrl Example on Databricks. \n",
    "Please refer to the \n",
    "1. [Zingg Python API](https://readthedocs.org/projects/zingg/) \n",
    "2. [Zingg Official Documentation](www.docs.zingg.ai) \n",
    "for details.\n",
    "\n",
    "Please ensure your cluster has the following installed\n",
    "1. Zingg from pypi\n",
    "2. Zingg jar from the [repo](https://github.com/zinggAI/zingg/releases)\n",
    "3. tabular from pypi\n",
    "\n",
    "Please execute each cell one by one as per the instructions provided.\n",
    "\n",
    "If you face any issue, please [log an issue](https://github.com/zinggAI/zingg/issues)\n",
    "\n",
    "You can also join [Zingg's Slack community](https://join.slack.com/t/zinggai/shared_invite/zt-w7zlcnol-vEuqU9m~Q56kLLUVxRgpOA)"
   ]
  },
  {
   "cell_type": "markdown",
   "metadata": {
    "application/vnd.databricks.v1+cell": {
     "cellMetadata": {
      "byteLimit": 2048000,
      "rowLimit": 10000
     },
     "inputWidgets": {},
     "nuid": "db2f411e-d207-4491-be56-dc0017ceed94",
     "showTitle": false,
     "title": ""
    }
   },
   "source": [
    "# Define locations for the model\n",
    "The Zingg models and training data are persisted in dbfs. \n",
    "\n",
    "**Please edit the model id in the cell below to reflect your model.**"
   ]
  },
  {
   "cell_type": "code",
   "execution_count": 0,
   "metadata": {
    "application/vnd.databricks.v1+cell": {
     "cellMetadata": {
      "byteLimit": 2048000,
      "rowLimit": 10000
     },
     "inputWidgets": {},
     "nuid": "b296c92c-a453-4012-a2b8-5cadb357bc1d",
     "showTitle": false,
     "title": ""
    }
   },
   "outputs": [],
   "source": [
    "##you can change these to the locations of your choice\n",
    "##these are the only two settings that need to change\n",
    "zinggDir = \"/models\"\n",
    "modelId = \"databricksdemo\""
   ]
  },
  {
   "cell_type": "markdown",
   "metadata": {
    "application/vnd.databricks.v1+cell": {
     "cellMetadata": {
      "byteLimit": 2048000,
      "rowLimit": 10000
     },
     "inputWidgets": {},
     "nuid": "9332a078-f480-4972-ac23-22790f6aca20",
     "showTitle": false,
     "title": ""
    }
   },
   "source": [
    "# Setup common functions for use in Zingg. \n",
    "These functions setup the internal folders used by Zingg, and help with labeling and training Zingg. \n",
    "\n",
    "**No change is needed in the cell below.**"
   ]
  },
  {
   "cell_type": "code",
   "execution_count": 0,
   "metadata": {
    "application/vnd.databricks.v1+cell": {
     "cellMetadata": {
      "byteLimit": 2048000,
      "rowLimit": 10000
     },
     "inputWidgets": {},
     "nuid": "37674bf7-57cc-46b7-8052-1134d9b5c045",
     "showTitle": false,
     "title": ""
    }
   },
   "outputs": [
    {
     "output_type": "display_data",
     "data": {
      "application/vnd.databricks.v1+bamboolib_hint": "{\"pd.DataFrames\": [], \"version\": \"0.0.1\"}",
      "text/plain": []
     },
     "metadata": {},
     "output_type": "display_data"
    },
    {
     "output_type": "stream",
     "name": "stdout",
     "output_type": "stream",
     "text": [
      "/databricks/spark/python/pyspark/sql/context.py:117: FutureWarning: Deprecated in 3.0.0. Use SparkSession.builder.getOrCreate() instead.\n  warnings.warn(\n"
     ]
    }
   ],
   "source": [
    "\n",
    "##please leave the following unchanged\n",
    "MARKED_DIR = zinggDir + \"/\" + modelId + \"/trainingData/marked/\"\n",
    "UNMARKED_DIR = zinggDir + \"/\" + modelId + \"/trainingData/unmarked/\"\n",
    "\n",
    "MARKED_DIR_DBFS = \"/dbfs\" + MARKED_DIR\n",
    "UNMARKED_DIR_DBFS = \"/dbfs\" + UNMARKED_DIR  \n",
    "\n",
    "\n",
    "import pandas as pd\n",
    "import numpy as np\n",
    " \n",
    "import time\n",
    "import uuid\n",
    " \n",
    "from tabulate import tabulate\n",
    "\n",
    "##this code sets up the Zingg Python interface\n",
    "from zingg.client import *\n",
    "from zingg.pipes import *\n",
    "\n",
    "def cleanModel():\n",
    "    dbutils.fs.rm(MARKED_DIR, recurse=True)\n",
    "    # drop unmarked data\n",
    "    dbutils.fs.rm(UNMARKED_DIR, recurse=True)\n",
    "    return\n",
    "\n",
    "# assign label to candidate pair\n",
    "def assign_label(candidate_pairs_pd, z_cluster, label):\n",
    "  '''\n",
    "  The purpose of this function is to assign a label to a candidate pair\n",
    "  identified by its z_cluster value.  Valid labels include:\n",
    "     0 - not matched\n",
    "     1 - matched\n",
    "     2 - uncertain\n",
    "  '''\n",
    "  \n",
    "  # assign label\n",
    "  candidate_pairs_pd.loc[ candidate_pairs_pd['z_cluster']==z_cluster, 'z_isMatch'] = label\n",
    "  \n",
    "  return\n",
    " \n",
    "def count_labeled_pairs(marked_pd):\n",
    "  '''\n",
    "  The purpose of this function is to count the labeled pairs in the marked folder.\n",
    "  '''\n",
    "\n",
    "  n_total = len(np.unique(marked_pd['z_cluster']))\n",
    "  n_positive = len(np.unique(marked_pd[marked_pd['z_isMatch']==1]['z_cluster']))\n",
    "  n_negative = len(np.unique(marked_pd[marked_pd['z_isMatch']==0]['z_cluster']))\n",
    "  \n",
    "  return n_positive, n_negative, n_total\n",
    "\n",
    "# setup widget \n",
    "available_labels = {\n",
    "    'No Match':0,\n",
    "    'Match':1,\n",
    "    'Uncertain':2\n",
    "    }\n",
    "dbutils.widgets.dropdown('label', 'Uncertain', available_labels.keys(), 'Is this pair a match?')\n",
    "\n",
    "\n"
   ]
  },
  {
   "cell_type": "markdown",
   "metadata": {
    "application/vnd.databricks.v1+cell": {
     "cellMetadata": {
      "byteLimit": 2048000,
      "rowLimit": 10000
     },
     "inputWidgets": {},
     "nuid": "694c8a35-a8fc-48f2-8288-e803631fbfe6",
     "showTitle": false,
     "title": ""
    }
   },
   "source": [
    "# Start building the Zingg program \n",
    "The following cell sets up the initial arguments for Zingg. \n",
    "\n",
    "**No change is needed in the cell below.**"
   ]
  },
  {
   "cell_type": "code",
   "execution_count": 0,
   "metadata": {
    "application/vnd.databricks.v1+cell": {
     "cellMetadata": {
      "byteLimit": 2048000,
      "rowLimit": 10000
     },
     "inputWidgets": {},
     "nuid": "dcc668a0-3e96-4839-9f53-077f56dd25dc",
     "showTitle": false,
     "title": ""
    }
   },
   "outputs": [],
   "source": [
    "\n",
    "#build the arguments for zingg\n",
    "args = Arguments()\n",
    "# Set the modelid and the zingg dir. You can use this as is\n",
    "args.setModelId(modelId)\n",
    "args.setZinggDir(zinggDir)\n"
   ]
  },
  {
   "cell_type": "markdown",
   "metadata": {
    "application/vnd.databricks.v1+cell": {
     "cellMetadata": {
      "byteLimit": 2048000,
      "rowLimit": 10000
     },
     "inputWidgets": {},
     "nuid": "7b3eb8bd-d035-413b-84d0-b798e5909335",
     "showTitle": false,
     "title": ""
    }
   },
   "source": [
    "# Define the input\n",
    "Our data is in csv so we provide a schema. You can choose other formats like parquet by using Pipe with parquet as the format.\n",
    "You can also pass in a dataframe by using a Pipe with the in memory format. \n",
    "Please refer to [Pipes] (https://zingg.readthedocs.io/en/latest/zingg.html#zingg.pipes.Pipe) for details on different formats\n",
    "\n",
    "**Please modify this for your data.**"
   ]
  },
  {
   "cell_type": "code",
   "execution_count": 0,
   "metadata": {
    "application/vnd.databricks.v1+cell": {
     "cellMetadata": {
      "byteLimit": 2048000,
      "rowLimit": 10000
     },
     "inputWidgets": {},
     "nuid": "1499f6f7-c9fa-4c95-bc39-7a945cf0758c",
     "showTitle": false,
     "title": ""
    }
   },
   "outputs": [
    {
     "output_type": "stream",
     "name": "stdout",
     "output_type": "stream",
     "text": [
      "set schema \n"
     ]
    }
   ],
   "source": [
    "schema = \"id string, fname string, lname string, stNo string, add1 string, add2 string, city string, state string, areacode string, dob string, ssn  string\"\n",
    "inputPipe = CsvPipe(\"testFebrl\", \"/FileStore/tables/test.csv\", schema)\n",
    "\n",
    "args.setData(inputPipe)"
   ]
  },
  {
   "cell_type": "markdown",
   "metadata": {
    "application/vnd.databricks.v1+cell": {
     "cellMetadata": {
      "byteLimit": 2048000,
      "rowLimit": 10000
     },
     "inputWidgets": {},
     "nuid": "c2c76f3d-6104-4014-b605-f0fe5bcc1650",
     "showTitle": false,
     "title": ""
    }
   },
   "source": [
    "# Configure the output\n",
    "Here we configure the putput to be a csv, but similar to the input above, the output can be a file format like parquet or delta or a data store like MySQL\n",
    "\n",
    "**Please modify this for your data.**"
   ]
  },
  {
   "cell_type": "code",
   "execution_count": 0,
   "metadata": {
    "application/vnd.databricks.v1+cell": {
     "cellMetadata": {
      "byteLimit": 2048000,
      "rowLimit": 10000
     },
     "inputWidgets": {},
     "nuid": "870e64cd-8053-4c76-bfba-3fe5af44adf4",
     "showTitle": false,
     "title": ""
    }
   },
   "outputs": [],
   "source": [
    "#setting outputpipe in 'args'\n",
    "outputPipe = CsvPipe(\"resultFebrl\", \"/tmp/febrlOutput\")\n",
    "args.setOutput(outputPipe)"
   ]
  },
  {
   "cell_type": "markdown",
   "metadata": {
    "application/vnd.databricks.v1+cell": {
     "cellMetadata": {
      "byteLimit": 2048000,
      "rowLimit": 10000
     },
     "inputWidgets": {},
     "nuid": "98e995ab-fd71-4848-8134-35fabf2ec8c7",
     "showTitle": false,
     "title": ""
    }
   },
   "source": [
    "# Define the match fields and their types\n",
    "\n",
    "The cell below is used to configure Zingg with the fields for use in matching and the match types.\n",
    "Details on the field definitions can be found at [Zingg official docs](https://www.docs.zingg.ai)\n",
    "\n",
    "**Please modify this for your data.**"
   ]
  },
  {
   "cell_type": "code",
   "execution_count": 0,
   "metadata": {
    "application/vnd.databricks.v1+cell": {
     "cellMetadata": {
      "byteLimit": 2048000,
      "rowLimit": 10000
     },
     "inputWidgets": {},
     "nuid": "3f6b3420-a841-4eb9-ae87-3e4d66af8ba4",
     "showTitle": false,
     "title": ""
    }
   },
   "outputs": [],
   "source": [
    "#set field definitions \n",
    "#please change these \n",
    "fname = FieldDefinition(\"fname\", \"string\", MatchType.FUZZY)\n",
    "lname = FieldDefinition(\"lname\", \"string\", MatchType.FUZZY)\n",
    "stNo = FieldDefinition(\"stNo\", \"string\", MatchType.FUZZY)\n",
    "add1 = FieldDefinition(\"add1\",\"string\", MatchType.FUZZY)\n",
    "add2 = FieldDefinition(\"add2\", \"string\", MatchType.FUZZY)\n",
    "city = FieldDefinition(\"city\", \"string\", MatchType.FUZZY)\n",
    "areacode = FieldDefinition(\"areacode\", \"string\", MatchType.FUZZY)\n",
    "state = FieldDefinition(\"state\", \"string\", MatchType.FUZZY)\n",
    "dob = FieldDefinition(\"dob\", \"string\", MatchType.FUZZY)\n",
    "ssn = FieldDefinition(\"ssn\", \"string\", MatchType.FUZZY)\n",
    "\n",
    "fieldDefs = [fname, lname, stNo, add1, add2, city, areacode, state, dob, ssn]\n",
    "args.setFieldDefinition(fieldDefs)\n",
    "\n"
   ]
  },
  {
   "cell_type": "markdown",
   "metadata": {
    "application/vnd.databricks.v1+cell": {
     "cellMetadata": {
      "byteLimit": 2048000,
      "rowLimit": 10000
     },
     "inputWidgets": {},
     "nuid": "5cecfe15-fe77-4ef3-bde4-818350c0e0bf",
     "showTitle": false,
     "title": ""
    }
   },
   "source": [
    "# Performance settings\n",
    "\n",
    "The numPartitions define how data is split across the cluster. Please change this as per your data and cluster size by referring to the performance section of the Zingg docs.\n",
    "The labelDataSampleSize is used for sampling in findTrainingData. It lets Zingg select pairs for labeling in a reasonable amount of time. \n",
    "If the findTrainingData phase is taking to much time, please reduce this by atleast 1/10th of its previous value and try again.\n",
    "\n",
    "**Please modify this for your data.**"
   ]
  },
  {
   "cell_type": "code",
   "execution_count": 0,
   "metadata": {
    "application/vnd.databricks.v1+cell": {
     "cellMetadata": {
      "byteLimit": 2048000,
      "rowLimit": 10000
     },
     "inputWidgets": {},
     "nuid": "7841d2ef-c067-45bd-9522-6f318958ed56",
     "showTitle": false,
     "title": ""
    }
   },
   "outputs": [],
   "source": [
    "\n",
    "# The numPartitions define how data is split across the cluster. \n",
    "# Please change the fllowing as per your data and cluster size by referring to the docs.\n",
    "\n",
    "args.setNumPartitions(4)\n",
    "args.setLabelDataSampleSize(0.5)\n",
    "\n"
   ]
  },
  {
   "cell_type": "markdown",
   "metadata": {
    "application/vnd.databricks.v1+cell": {
     "cellMetadata": {
      "byteLimit": 2048000,
      "rowLimit": 10000
     },
     "inputWidgets": {},
     "nuid": "241243b3-1536-467d-89a6-80698e8c57ec",
     "showTitle": false,
     "title": ""
    }
   },
   "source": [
    "# Select pairs for user labeling\n",
    "**No change is needed in the cell below.**"
   ]
  },
  {
   "cell_type": "code",
   "execution_count": 0,
   "metadata": {
    "application/vnd.databricks.v1+cell": {
     "cellMetadata": {
      "byteLimit": 2048000,
      "rowLimit": 10000
     },
     "inputWidgets": {},
     "nuid": "9747d72e-3330-4b7c-9e60-0e91684eaa3f",
     "showTitle": false,
     "title": ""
    }
   },
   "outputs": [
    {
     "output_type": "stream",
     "name": "stdout",
     "output_type": "stream",
     "text": [
      "['--phase', 'findTrainingData']\narguments for client options are  ['--phase', 'findTrainingData', '--license', 'zinggLic.txt', '--email', 'zingg@zingg.ai', '--conf', 'dummyConf.json']\n"
     ]
    }
   ],
   "source": [
    "options = ClientOptions([ClientOptions.PHASE,\"findTrainingData\"])\n",
    "\n",
    "#Zingg execution for the given phase\n",
    "zingg = ZinggWithSpark(args, options)\n",
    "zingg.initAndExecute()"
   ]
  },
  {
   "cell_type": "code",
   "execution_count": 0,
   "metadata": {
    "application/vnd.databricks.v1+cell": {
     "cellMetadata": {
      "byteLimit": 2048000,
      "rowLimit": 10000
     },
     "inputWidgets": {},
     "nuid": "25077a5c-1a23-4110-ac7f-819765047839",
     "showTitle": false,
     "title": ""
    }
   },
   "outputs": [
    {
     "output_type": "stream",
     "name": "stdout",
     "output_type": "stream",
     "text": [
      "['--phase', 'label']\narguments for client options are  ['--phase', 'label', '--license', 'zinggLic.txt', '--email', 'zingg@zingg.ai', '--conf', 'dummyConf.json']\n"
     ]
    }
   ],
   "source": [
    "options = ClientOptions([ClientOptions.PHASE,\"label\"])\n",
    "\n",
    "#Zingg execution for the given phase\n",
    "zingg = ZinggWithSpark(args, options)\n",
    "zingg.init()"
   ]
  },
  {
   "cell_type": "markdown",
   "metadata": {
    "application/vnd.databricks.v1+cell": {
     "cellMetadata": {
      "byteLimit": 2048000,
      "rowLimit": 10000
     },
     "inputWidgets": {},
     "nuid": "25156ca6-6fe9-4223-b35b-182c371e9c89",
     "showTitle": false,
     "title": ""
    }
   },
   "source": [
    "# See if we have records for labeling\n",
    "\n",
    "**No change is needed to the cell below.**"
   ]
  },
  {
   "cell_type": "code",
   "execution_count": 0,
   "metadata": {
    "application/vnd.databricks.v1+cell": {
     "cellMetadata": {
      "byteLimit": 2048000,
      "rowLimit": 10000
     },
     "inputWidgets": {},
     "nuid": "4039051c-1d31-4373-8d53-3955e76b5bba",
     "showTitle": false,
     "title": ""
    }
   },
   "outputs": [
    {
     "output_type": "stream",
     "name": "stdout",
     "output_type": "stream",
     "text": [
      "/databricks/spark/python/pyspark/sql/dataframe.py:129: UserWarning: DataFrame constructor is internal. Do not directly use it.\n  warnings.warn(\"DataFrame constructor is internal. Do not directly use it.\")\n18 candidate pairs found for labeling\n"
     ]
    }
   ],
   "source": [
    "# get candidate pairs\n",
    "candidate_pairs_pd = getPandasDfFromDs(zingg.getUnmarkedRecords())\n",
    " \n",
    "# if no candidate pairs, run job and wait\n",
    "if candidate_pairs_pd.shape[0] == 0:\n",
    "  print('No unlabeled candidate pairs found.  Run findTraining job ...')\n",
    "\n",
    "else:\n",
    "    # get list of pairs (as identified by z_cluster) to label \n",
    "    z_clusters = list(np.unique(candidate_pairs_pd['z_cluster'])) \n",
    "\n",
    "    # identify last reviewed cluster\n",
    "    last_z_cluster = '' # none yet\n",
    "\n",
    "    # print candidate pair stats\n",
    "    print('{0} candidate pairs found for labeling'.format(len(z_clusters)))\n",
    "  "
   ]
  },
  {
   "cell_type": "markdown",
   "metadata": {
    "application/vnd.databricks.v1+cell": {
     "cellMetadata": {
      "byteLimit": 2048000,
      "rowLimit": 10000
     },
     "inputWidgets": {},
     "nuid": "ba2de35e-3be8-49f5-b206-68fc339bae9d",
     "showTitle": false,
     "title": ""
    }
   },
   "source": [
    "# Label the pairs\n",
    "\n",
    "A drop down widget is shown which will let the user mark matching, non matching and unsure pairs.\n",
    "\n",
    "**No change is needed in the cell below.**"
   ]
  },
  {
   "cell_type": "code",
   "execution_count": 0,
   "metadata": {
    "application/vnd.databricks.v1+cell": {
     "cellMetadata": {
      "byteLimit": 2048000,
      "rowLimit": 10000
     },
     "inputWidgets": {},
     "nuid": "859127a1-dae7-42b0-a488-c06148dd6689",
     "showTitle": false,
     "title": ""
    }
   },
   "outputs": [
    {
     "output_type": "stream",
     "name": "stdout",
     "output_type": "stream",
     "text": [
      "All candidate pairs have been labeled.\n\nYou have accumulated 9 pairs labeled as positive matches.\nIf you need more pairs to label, re-run the cell for 'findTrainingData' after saving the labels by running the cell below\n"
     ]
    }
   ],
   "source": [
    "  \n",
    "\n",
    "# get current label setting (which is from last cluster)\n",
    "last_label = available_labels[dbutils.widgets.get('label')]\n",
    " \n",
    "# assign label to last cluster\n",
    "if last_z_cluster != '':\n",
    "  assign_label(candidate_pairs_pd, last_z_cluster, last_label)\n",
    " \n",
    "# get next cluster to label\n",
    "try:\n",
    "  z_cluster = candidate_pairs_pd[(candidate_pairs_pd['z_isMatch']==-1) & (candidate_pairs_pd['z_cluster'] != last_z_cluster)].head(1)['z_cluster'].values[0]\n",
    "except:\n",
    "  pass\n",
    "  z_cluster = ''\n",
    " \n",
    "# present the next pair\n",
    "if z_cluster != '':\n",
    "  print('IS THIS PAIR A MATCH?')\n",
    "  print(f\"Current widget setting will label this as '{dbutils.widgets.get('label')}'.\")\n",
    "  print('Change widget value if different label required.\\n')\n",
    "  print(\n",
    "    tabulate(\n",
    "      candidate_pairs_pd[candidate_pairs_pd['z_cluster']==z_cluster], \n",
    "      headers = 'keys', \n",
    "      tablefmt = 'psql'\n",
    "      )\n",
    "    )\n",
    "else:\n",
    "  print('All candidate pairs have been labeled.\\n')\n",
    " \n",
    "# hold last items for assignnment in next run\n",
    "last_z_cluster = z_cluster\n",
    " \n",
    "# if no more to label\n",
    "if last_z_cluster == '':\n",
    "  \n",
    "  # save labels\n",
    "  zingg.writeLabelledOutputFromPandas(candidate_pairs_pd,args)\n",
    "  \n",
    "  # count labels accumulated\n",
    "  marked_pd_df = getPandasDfFromDs(zingg.getMarkedRecords())\n",
    "  n_pos, n_neg, n_tot = count_labeled_pairs(marked_pd_df)\n",
    "  print(f'You have accumulated {n_pos} pairs labeled as positive matches.')\n",
    "  print(\"If you need more pairs to label, re-run the cell for 'findTrainingData' after saving the labels by running the cell below\")"
   ]
  },
  {
   "cell_type": "markdown",
   "metadata": {
    "application/vnd.databricks.v1+cell": {
     "cellMetadata": {
      "byteLimit": 2048000,
      "rowLimit": 10000
     },
     "inputWidgets": {},
     "nuid": "a9d4a8fd-3ec8-40f9-86ed-4a58cb65d13d",
     "showTitle": false,
     "title": ""
    }
   },
   "source": [
    "# Save all the labels provided by the user \n",
    "No change is needed to the cell below."
   ]
  },
  {
   "cell_type": "code",
   "execution_count": 0,
   "metadata": {
    "application/vnd.databricks.v1+cell": {
     "cellMetadata": {
      "byteLimit": 2048000,
      "rowLimit": 10000
     },
     "inputWidgets": {},
     "nuid": "9b7a4f3d-e03c-4854-9ef7-fa4724a82e6c",
     "showTitle": false,
     "title": ""
    }
   },
   "outputs": [
    {
     "output_type": "stream",
     "name": "stdout",
     "output_type": "stream",
     "text": [
      "You have accumulated 9 pairs labeled as positive matches.\nYou have accumulated 8 pairs labeled as not matches.\nIf you need more pairs to label, re-run the cell for 'findTrainingData'\n"
     ]
    }
   ],
   "source": [
    "# save labels\n",
    "zingg.writeLabelledOutputFromPandas(candidate_pairs_pd,args)\n",
    "\n",
    "# count labels accumulated\n",
    "marked_pd_df = getPandasDfFromDs(zingg.getMarkedRecords())\n",
    "n_pos, n_neg, n_tot = count_labeled_pairs(marked_pd_df)\n",
    "print(f'You have accumulated {n_pos} pairs labeled as positive matches.')\n",
    "print(f'You have accumulated {n_neg} pairs labeled as not matches.')\n",
    "print(\"If you need more pairs to label, re-run the cell for 'findTrainingData'\")"
   ]
  },
  {
   "cell_type": "markdown",
   "metadata": {
    "application/vnd.databricks.v1+cell": {
     "cellMetadata": {
      "byteLimit": 2048000,
      "rowLimit": 10000
     },
     "inputWidgets": {},
     "nuid": "4c6a7266-658c-4705-9a49-2bb99dcadfe9",
     "showTitle": false,
     "title": ""
    }
   },
   "source": [
    "# Build the Zingg models and predict matches\n",
    "No change is needed to the cell below."
   ]
  },
  {
   "cell_type": "code",
   "execution_count": 0,
   "metadata": {
    "application/vnd.databricks.v1+cell": {
     "cellMetadata": {
      "byteLimit": 2048000,
      "rowLimit": 10000
     },
     "inputWidgets": {},
     "nuid": "eea6f5f8-12a3-4fbf-be9b-828dbc0e4e62",
     "showTitle": false,
     "title": ""
    }
   },
   "outputs": [
    {
     "output_type": "stream",
     "name": "stdout",
     "output_type": "stream",
     "text": [
      "['--phase', 'trainMatch']\narguments for client options are  ['--phase', 'trainMatch', '--license', 'zinggLic.txt', '--email', 'zingg@zingg.ai', '--conf', 'dummyConf.json']\n"
     ]
    }
   ],
   "source": [
    "options = ClientOptions([ClientOptions.PHASE,\"trainMatch\"])\n",
    "\n",
    "#Zingg execution for the given phase\n",
    "zingg = ZinggWithSpark(args, options)\n",
    "zingg.initAndExecute()"
   ]
  },
  {
   "cell_type": "code",
   "execution_count": 0,
   "metadata": {
    "application/vnd.databricks.v1+cell": {
     "cellMetadata": {},
     "inputWidgets": {},
     "nuid": "535490e1-a62d-4efb-a2c8-91cf3dcd31ba",
     "showTitle": false,
     "title": ""
    }
   },
   "outputs": [],
   "source": []
  }
 ],
 "metadata": {
  "application/vnd.databricks.v1+notebook": {
   "dashboards": [],
   "language": "python",
   "notebookMetadata": {
    "pythonIndentUnit": 4
   },
   "notebookName": "FebrlExample",
   "widgets": {
    "label": {
     "currentValue": "Match",
     "nuid": "19cad016-97e3-4a78-898c-1bb583bf20da",
     "widgetInfo": {
      "widgetType": "dropdown",
      "defaultValue": "Uncertain",
      "label": "Is this pair a match?",
      "name": "label",
      "options": {
       "widgetType": "dropdown",
       "choices": [
        "No Match",
        "Match",
        "Uncertain"
       ]
      }
     }
    }
   }
  }
 },
 "nbformat": 4,
 "nbformat_minor": 0
}
